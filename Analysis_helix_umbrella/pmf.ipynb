{
 "cells": [
  {
   "cell_type": "code",
   "execution_count": null,
   "metadata": {},
   "outputs": [],
   "source": [
    "import matplotlib.pyplot as plt\n",
    "import numpy as np\n",
    "\n",
    "data = np.loadtxt('pmf.xvg',delimiter = '\\t')\n",
    "bootstrap = np.loadtxt('bsResult.xvg', delimiter = '\\t')\n",
    "\n",
    "\n",
    "z = data[:,0]\n",
    "pmf= data[:,1]\n",
    "std = bootstrap[:,2]\n",
    "upperbound = pmf+std\n",
    "lowerbound = pmf-std\n",
    "upperbound2 = upperbound + std\n",
    "lowerbound2 = lowerbound - std\n",
    "\n",
    "\n",
    "fig = plt.figure()\n",
    "ax1 = fig.add_subplot(111)\n",
    "ax1.set_xlabel(r'Distance along z $(nm)$')\n",
    "ax1.set_ylabel(r'PMF $(kcal / mol)$')\n",
    "ax1.plot(z,pmf, c='k', label='Calculated PMF along\\nreaction coordinate')\n",
    "ax1.fill_between(z,upperbound2,lowerbound2,color = '#4E8CF7', label = 'Bootstrapped error \\nof ' r'$2\\sigma$')\n",
    "ax1.fill_between(z,upperbound,lowerbound,color = '#F5A3A3', label = 'Bootstrapped error \\nof ' r'$\\sigma$')\n",
    "ax1.ticklabel_format(axis = 'y', style = 'sci',scilimits = (0,0))\n",
    "\n",
    "handles,labels = ax1.get_legend_handles_labels()\n",
    "\n",
    "handles = [handles[0], handles[2], handles[1]]\n",
    "labels = [labels[0], labels[2], labels[1]]\n",
    "\n",
    "leg = ax1.legend(handles,labels)\n",
    "#plt.xlim([0,max(x)])\n",
    "plt.savefig('pmf_helix.pdf')\n",
    "plt.show()"
   ]
  }
 ],
 "metadata": {
  "kernelspec": {
   "display_name": "Python 3",
   "language": "python",
   "name": "python3"
  },
  "language_info": {
   "codemirror_mode": {
    "name": "ipython",
    "version": 3
   },
   "file_extension": ".py",
   "mimetype": "text/x-python",
   "name": "python",
   "nbconvert_exporter": "python",
   "pygments_lexer": "ipython3",
   "version": "3.7.3"
  }
 },
 "nbformat": 4,
 "nbformat_minor": 2
}
