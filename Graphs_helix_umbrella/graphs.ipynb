{
 "cells": [
  {
   "cell_type": "code",
   "execution_count": null,
   "metadata": {},
   "outputs": [],
   "source": [
    "import numpy as np\n",
    "import matplotlib.pyplot as plt\n",
    "\n",
    "\n",
    "x, y = [], []\n",
    "\n",
    "y = [ [] for i in range(26)]\n",
    "\n",
    "with open(\"histo.xvg\") as f:\n",
    "    for line in f:\n",
    "        cols = line.split()\n",
    "        for i in range(len(cols)):\n",
    "            y[i].append(cols[i])\n",
    "\n",
    "for i in y:\n",
    "    i = np.array(i)\n",
    "\n",
    "\n",
    "z = [ [] for i in range(26)]\n",
    "for i in range(len(y)):\n",
    "    for j in y[i]:\n",
    "        z[i].append(float(j))\n",
    "\n",
    "\n",
    "\n",
    "fig = plt.figure()\n",
    "ax1 = fig.add_subplot(111)\n",
    "ax1.set_xlabel(r'Distance along z $(nm)$')\n",
    "ax1.set_ylabel(r'Count')\n",
    "\n",
    "for i in range(1,len(cols)):\n",
    "    ax1.plot(z[0],z[i])\n",
    "\n",
    "ax1.plot([],[],label = 'Helix umbrella histograms',linewidth = 0)\n",
    "leg = ax1.legend(loc = 'upper left')\n",
    "plt.ylim([0,250])\n",
    "plt.savefig('Helix_histo.pdf')\n",
    "plt.show()"
   ]
  }
 ],
 "metadata": {
  "kernelspec": {
   "display_name": "Python 3",
   "language": "python",
   "name": "python3"
  },
  "language_info": {
   "codemirror_mode": {
    "name": "ipython",
    "version": 3
   },
   "file_extension": ".py",
   "mimetype": "text/x-python",
   "name": "python",
   "nbconvert_exporter": "python",
   "pygments_lexer": "ipython3",
   "version": "3.7.3"
  }
 },
 "nbformat": 4,
 "nbformat_minor": 2
}
