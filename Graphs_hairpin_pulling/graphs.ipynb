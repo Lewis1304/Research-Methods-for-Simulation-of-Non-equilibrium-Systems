{
 "cells": [
  {
   "cell_type": "code",
   "execution_count": null,
   "metadata": {},
   "outputs": [],
   "source": [
    "import numpy as np\n",
    "import matplotlib.pyplot as plt\n",
    "\n",
    "\n",
    "x, y = [], []\n",
    "\n",
    "with open(\"force-vs-distance-v-0-1.dat\") as f:\n",
    "    for line in f:\n",
    "        cols = line.split()\n",
    "\n",
    "        if len(cols) == 2:\n",
    "            x.append(float(cols[0]))\n",
    "            y.append(float(cols[1]))\n",
    "\n",
    "fig = plt.figure()\n",
    "ax1 = fig.add_subplot(111)\n",
    "ax1.set_xlabel(r'Distance along z $(nm)$')\n",
    "ax1.set_ylabel(r'Force $(kg\\  mol^{-1}\\  nm^{-1})$')\n",
    "ax1.plot(x,y, c='k', label='Hairpin force agaisnt distance \\nthrough pulling simulation')\n",
    "ax1.ticklabel_format(axis = 'y', style = 'sci',scilimits = (0,0))\n",
    "\n",
    "leg = ax1.legend()\n",
    "plt.xlim([min(x),max(x)])\n",
    "plt.savefig('force_vs_distance_hairpin.pdf')\n",
    "plt.show()\n"
   ]
  }
 ],
 "metadata": {
  "kernelspec": {
   "display_name": "Python 3",
   "language": "python",
   "name": "python3"
  },
  "language_info": {
   "codemirror_mode": {
    "name": "ipython",
    "version": 3
   },
   "file_extension": ".py",
   "mimetype": "text/x-python",
   "name": "python",
   "nbconvert_exporter": "python",
   "pygments_lexer": "ipython3",
   "version": "3.7.3"
  }
 },
 "nbformat": 4,
 "nbformat_minor": 2
}
