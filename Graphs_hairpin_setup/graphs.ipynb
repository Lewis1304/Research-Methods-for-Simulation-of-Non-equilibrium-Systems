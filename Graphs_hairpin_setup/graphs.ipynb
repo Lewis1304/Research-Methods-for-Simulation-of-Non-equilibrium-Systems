{
 "cells": [
  {
   "cell_type": "code",
   "execution_count": null,
   "metadata": {},
   "outputs": [],
   "source": [
    "import numpy as np\n",
    "import matplotlib.pyplot as plt\n",
    "\n",
    "\n",
    "x, y = [], []\n",
    "\n",
    "with open(\"density.xvg\") as f:\n",
    "    for line in f:\n",
    "        cols = line.split()\n",
    "\n",
    "        if len(cols) == 2:\n",
    "            x.append(float(cols[0]))\n",
    "            y.append(float(cols[1]))\n",
    "\n",
    "fig = plt.figure()\n",
    "ax1 = fig.add_subplot(111)\n",
    "ax1.set_xlabel(r'Time $(ps)$')\n",
    "ax1.set_ylabel(r'Density $(kg / m^3)$')\n",
    "ax1.plot(x,y, c='k', label='Hairpin density \\nthrough equilibration')\n",
    "ax1.ticklabel_format(axis = 'y', style = 'sci',scilimits = (0,0))\n",
    "\n",
    "leg = ax1.legend()\n",
    "plt.xlim([0,max(x)])\n",
    "plt.savefig('Hairpin density.pdf')\n",
    "plt.show()"
   ]
  }
 ],
 "metadata": {
  "kernelspec": {
   "display_name": "Python 3",
   "language": "python",
   "name": "python3"
  },
  "language_info": {
   "codemirror_mode": {
    "name": "ipython",
    "version": 3
   },
   "file_extension": ".py",
   "mimetype": "text/x-python",
   "name": "python",
   "nbconvert_exporter": "python",
   "pygments_lexer": "ipython3",
   "version": "3.7.3"
  }
 },
 "nbformat": 4,
 "nbformat_minor": 2
}
